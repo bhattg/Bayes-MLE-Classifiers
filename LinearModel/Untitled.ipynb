{
 "cells": [
  {
   "cell_type": "code",
   "execution_count": 40,
   "metadata": {},
   "outputs": [
    {
     "name": "stdout",
     "output_type": "stream",
     "text": [
      "147.36567287702488 2\n",
      "86.8458444154392 3\n",
      "77.44721071846352 4\n",
      "27.35180396415499 5\n",
      "27.206246649480825 6\n",
      "27.150379373901032 7\n",
      "27.15811600918534 8\n"
     ]
    }
   ],
   "source": [
    "import pandas as pd\n",
    "import numpy as np\n",
    "from sklearn.model_selection import train_test_split \n",
    "\n",
    "for deg in range(2, 9):\n",
    "    \n",
    "    df= pd.read_csv(\"Assignment2Data_4.csv\")\n",
    "    x_all = df.iloc[:, 0:df.shape[1]-1]\n",
    "    y_all = df.iloc[:, df.shape[1]-1]\n",
    "    y_all = np.asarray(y_all.values.tolist())\n",
    "    x_all= np.asarray(x_all.values.tolist())\n",
    "    df=df.drop(['x'], axis=1)\n",
    "\n",
    "    for i in range(0, deg):\n",
    "        ar= np.power(x_all, i)\n",
    "        df.insert(i, i, ar, allow_duplicates=True)\n",
    "        \n",
    "    x_all = df.iloc[:, 0:df.shape[1]-1]\n",
    "    y_all = df.iloc[:, df.shape[1]-1]\n",
    "    x_train, x_test, y_train, y_test = train_test_split(x_all, y_all, test_size=0.1, random_state=42)\n",
    "    x_train = np.asarray(x_train.values.tolist())\n",
    "    y_train = np.asarray(y_train.values.tolist())\n",
    "    x_test = np.asarray(x_test.values.tolist())\n",
    "    y_test = np.asarray(y_test.values.tolist())\n",
    "    \n",
    "    a=np.matmul(x_train.T, x_train)\n",
    "    b=np.linalg.inv(a)\n",
    "    c=np.matmul(b, x_train.T)\n",
    "    param = np.matmul(c, y_train)\n",
    "    param = np.reshape(param, (deg, 1))\n",
    "\n",
    "    y_out = np.matmul(x_test, param)\n",
    "    y_test = np.reshape(y_test, (y_test.shape[0], 1))\n",
    "    diff = (y_test-y_out)\n",
    "    diff = np.power(diff, 2)\n",
    "    err = np.sum(diff)/y_test.shape[0]\n",
    "    print(err, deg)"
   ]
  },
  {
   "cell_type": "code",
   "execution_count": null,
   "metadata": {},
   "outputs": [],
   "source": [
    "\n"
   ]
  },
  {
   "cell_type": "code",
   "execution_count": null,
   "metadata": {},
   "outputs": [],
   "source": []
  }
 ],
 "metadata": {
  "kernelspec": {
   "display_name": "Python 3",
   "language": "python",
   "name": "python3"
  },
  "language_info": {
   "codemirror_mode": {
    "name": "ipython",
    "version": 3
   },
   "file_extension": ".py",
   "mimetype": "text/x-python",
   "name": "python",
   "nbconvert_exporter": "python",
   "pygments_lexer": "ipython3",
   "version": "3.7.0"
  }
 },
 "nbformat": 4,
 "nbformat_minor": 2
}
